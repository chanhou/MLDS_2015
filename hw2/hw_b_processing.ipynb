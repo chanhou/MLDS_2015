{
 "cells": [
  {
   "cell_type": "code",
   "execution_count": 1,
   "metadata": {
    "collapsed": true
   },
   "outputs": [],
   "source": [
    "import numpy as np"
   ]
  },
  {
   "cell_type": "code",
   "execution_count": 2,
   "metadata": {
    "collapsed": false
   },
   "outputs": [
    {
     "name": "stdout",
     "output_type": "stream",
     "text": [
      "{'aa': 0, 'el': 14, 'ch': 8, 'ae': 1, 'eh': 13, 'cl': 9, 'ah': 2, 'ao': 3, 'ih': 22, 'en': 15, 'ey': 18, 'aw': 4, 'ay': 6, 'ax': 5, 'er': 17, 'vcl': 43, 'ng': 30, 'iy': 24, 'sh': 36, 'th': 39, 'sil': 37, 'zh': 47, 'w': 44, 'dh': 11, 'v': 42, 'ix': 23, 'y': 45, 'hh': 21, 'jh': 25, 'dx': 12, 'b': 7, 'd': 10, 'g': 20, 'f': 19, 'k': 26, 'm': 28, 'l': 27, 'n': 29, 'uh': 40, 'p': 33, 's': 35, 'r': 34, 't': 38, 'oy': 32, 'epi': 16, 'ow': 31, 'z': 46, 'uw': 41}\n",
      "{'aa': 'a', 'el': 'o', 'ch': 'i', 'ae': 'b', 'eh': 'n', 'cl': 'j', 'ah': 'c', 'ao': 'd', 'ih': 'w', 'en': 'p', 'ey': 's', 'aw': 'e', 'ay': 'g', 'ax': 'f', 'er': 'r', 'vcl': 'R', 'ng': 'E', 'iy': 'y', 'sh': 'K', 'th': 'N', 'sil': 'L', 'zh': 'V', 'w': 'S', 'dh': 'l', 'v': 'Q', 'ix': 'x', 'y': 'T', 'hh': 'v', 'jh': 'z', 'dx': 'm', 'b': 'h', 'd': 'k', 'g': 'u', 'f': 't', 'k': 'A', 'm': 'C', 'l': 'B', 'n': 'D', 'uh': 'O', 'p': 'H', 's': 'J', 'r': 'I', 't': 'M', 'oy': 'G', 'epi': 'q', 'ow': 'F', 'z': 'U', 'uw': 'P'}\n"
     ]
    }
   ],
   "source": [
    "mapp_int = {}\n",
    "mapp_number = {}\n",
    "\n",
    "with open('./48_idx_chr.map_b') as f:\n",
    "    for lines in f:\n",
    "        frames = lines.split('\\t')\n",
    "#         print frames\n",
    "        ff = frames[1].split(' ')\n",
    "#         print ff\n",
    "        final = ff[-1].split('\\n')\n",
    "#         print final\n",
    "        mapp_int[ frames[0] ] = int(ff[0])\n",
    "        mapp_number[ frames[0] ] = final[0]\n",
    "#         print mapp_int\n",
    "#         print mapp_number\n",
    "#         break\n",
    "print mapp_int\n",
    "print mapp_number"
   ]
  },
  {
   "cell_type": "code",
   "execution_count": 17,
   "metadata": {
    "collapsed": false
   },
   "outputs": [],
   "source": [
    "mapp_label = {}\n",
    "\n",
    "with open('../hw1/MLDS_HW1_RELEASE_v1/label/train.lab') as f:\n",
    "    for lines in f:\n",
    "        frames = lines.split(',')\n",
    "#         print frames\n",
    "        fff = frames[0].split('_')\n",
    "#         if ((fff[0]+'_'+fff[1]) != 'faem0_si1392' ):\n",
    "#             continue\n",
    "#         print fff\n",
    "        final = frames[-1].split('\\n')\n",
    "#         print final\n",
    "        mapp_label[ frames[0] ] = final[0]\n",
    "#         break\n",
    "# print mapp_label"
   ]
  },
  {
   "cell_type": "code",
   "execution_count": 19,
   "metadata": {
    "collapsed": false
   },
   "outputs": [],
   "source": [
    "collection = []\n",
    "\n",
    "with open('../hw1/MLDS_HW1_RELEASE_v1/fbank/train.ark') as f:\n",
    "    previous_transition = -1\n",
    "    previous_ppl = '0'\n",
    "    \n",
    "    count = 0\n",
    "    for lines in f :\n",
    "        frames = lines.split(' ')\n",
    "        \n",
    "        fff = frames[0].split('_')\n",
    "        ppl_name = fff[0]+'_'+fff[1]\n",
    "#         count += 1\n",
    "#         print count, ppl_name\n",
    "        if (previous_ppl != ppl_name ):\n",
    "            if (previous_ppl != '0'):\n",
    "                test_results = []\n",
    "                for abc in observation:\n",
    "                    for efg in abc:        \n",
    "                        test_results.append(  efg  ) \n",
    "                for abc in transition:\n",
    "                    for efg in abc:\n",
    "                        test_results.append( efg  ) \n",
    "                \n",
    "#                 print previous_ppl\n",
    "                \n",
    "                collection.append(test_results)\n",
    "                \n",
    "#                 if (previous_ppl == 'faem0_si1392'):\n",
    "#                     print collection[-1]\n",
    "#                     break\n",
    "#             print 'gogo'\n",
    "            previous_transition = -1\n",
    "            previous_ppl = ppl_name\n",
    "            observation = np.zeros((48,69))\n",
    "            transition = np.zeros((48,48))\n",
    "            \n",
    "\n",
    "#         print frames[0]\n",
    "#         print mapp_label[ frames[0] ]\n",
    "#         print mapp_int[mapp_label[ frames[0] ]]\n",
    "        now = mapp_int[mapp_label[ frames[0] ]]\n",
    "#         y.append(mapp_number[mapp_label[ frames[0] ]])\n",
    "        \n",
    "        frame2float = np.array([ float(x) for x in frames[1:] ])\n",
    "        \n",
    "        observation[now] += frame2float\n",
    "\n",
    "        if (previous_transition == -1 ):\n",
    "            previous_transition = now\n",
    "            continue\n",
    "            \n",
    "        transition[previous_transition][now] += 1\n",
    "#         print transition[previous]\n",
    "#         print observation[now]\n",
    "        previous_transition = now\n",
    "\n",
    "#         break\n"
   ]
  },
  {
   "cell_type": "code",
   "execution_count": 20,
   "metadata": {
    "collapsed": false
   },
   "outputs": [
    {
     "data": {
      "text/plain": [
       "(3695, 5616)"
      ]
     },
     "execution_count": 20,
     "metadata": {},
     "output_type": "execute_result"
    }
   ],
   "source": [
    "np.array(collection).shape"
   ]
  },
  {
   "cell_type": "code",
   "execution_count": 22,
   "metadata": {
    "collapsed": false
   },
   "outputs": [],
   "source": [
    "\n",
    "# f = open(\"hwb_phi.csv\", 'w+')\n",
    "# # f.write(\"id,feature\\n\")\n",
    "# for abc in collection:\n",
    "#     for ddd in abc:\n",
    "#         f.write(\"{0},\".format(ddd))\n",
    "#     f.write(\"\\n\")\n",
    "# f.close()\n"
   ]
  }
 ],
 "metadata": {
  "kernelspec": {
   "display_name": "Python 2",
   "language": "python",
   "name": "python2"
  },
  "language_info": {
   "codemirror_mode": {
    "name": "ipython",
    "version": 2
   },
   "file_extension": ".py",
   "mimetype": "text/x-python",
   "name": "python",
   "nbconvert_exporter": "python",
   "pygments_lexer": "ipython2",
   "version": "2.7.6"
  }
 },
 "nbformat": 4,
 "nbformat_minor": 0
}

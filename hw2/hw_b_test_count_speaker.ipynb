{
 "cells": [
  {
   "cell_type": "code",
   "execution_count": 1,
   "metadata": {
    "collapsed": true
   },
   "outputs": [],
   "source": [
    "import numpy as np"
   ]
  },
  {
   "cell_type": "code",
   "execution_count": 6,
   "metadata": {
    "collapsed": false
   },
   "outputs": [],
   "source": [
    "collection = []\n",
    "\n",
    "with open('../hw1/MLDS_HW1_RELEASE_v1/fbank/test.ark') as f:\n",
    "    previous_ppl = '0'\n",
    "    \n",
    "    count = 0\n",
    "    for lines in f :\n",
    "        frames = lines.split(' ')\n",
    "        \n",
    "        fff = frames[0].split('_')\n",
    "        ppl_name = fff[0]+'_'+fff[1]\n",
    "#         count += 1\n",
    "#         print count, ppl_name\n",
    "        if (previous_ppl != ppl_name ):\n",
    "            if (previous_ppl != '0'):\n",
    "                count += 1\n",
    "#                 test_results = []\n",
    "#                 for abc in observation:\n",
    "#                     for efg in abc:        \n",
    "#                         test_results.append(  efg  ) \n",
    "#                 for abc in transition:\n",
    "#                     for efg in abc:\n",
    "#                         test_results.append( efg  ) \n",
    "                \n",
    "#                 print previous_ppl\n",
    "                \n",
    "#                 collection.append(test_results)\n",
    "                \n",
    "#                 if (previous_ppl == 'faem0_si1392'):\n",
    "#                     print collection[-1]\n",
    "#                     break\n",
    "#             print 'gogo'\n",
    "#             previous_transition = -1\n",
    "            previous_ppl = ppl_name\n",
    "#             observation = np.zeros((48,69))\n",
    "#             transition = np.zeros((48,48))\n",
    "            \n",
    "\n",
    "#         print frames[0]\n",
    "#         print mapp_label[ frames[0] ]\n",
    "#         print mapp_int[mapp_label[ frames[0] ]]\n",
    "#         now = mapp_int[mapp_label[ frames[0] ]]\n",
    "#         y.append(mapp_number[mapp_label[ frames[0] ]])\n",
    "        \n",
    "#         frame2float = np.array([ float(x) for x in frames[1:] ])\n",
    "        \n",
    "#         observation[now] += frame2float\n",
    "\n",
    "#         if (previous_transition == -1 ):\n",
    "#             previous_transition = now\n",
    "#             continue\n",
    "            \n",
    "#         transition[previous_transition][now] += 1\n",
    "# #         print transition[previous]\n",
    "# #         print observation[now]\n",
    "#         previous_transition = now\n",
    "\n",
    "#         break\n"
   ]
  },
  {
   "cell_type": "code",
   "execution_count": 7,
   "metadata": {
    "collapsed": false
   },
   "outputs": [
    {
     "data": {
      "text/plain": [
       "591"
      ]
     },
     "execution_count": 7,
     "metadata": {},
     "output_type": "execute_result"
    }
   ],
   "source": [
    "count"
   ]
  },
  {
   "cell_type": "code",
   "execution_count": 22,
   "metadata": {
    "collapsed": false
   },
   "outputs": [],
   "source": [
    "\n",
    "# f = open(\"hwb_phi.csv\", 'w+')\n",
    "# # f.write(\"id,feature\\n\")\n",
    "# for abc in collection:\n",
    "#     for ddd in abc:\n",
    "#         f.write(\"{0},\".format(ddd))\n",
    "#     f.write(\"\\n\")\n",
    "# f.close()\n"
   ]
  }
 ],
 "metadata": {
  "kernelspec": {
   "display_name": "Python 2",
   "language": "python",
   "name": "python2"
  },
  "language_info": {
   "codemirror_mode": {
    "name": "ipython",
    "version": 2
   },
   "file_extension": ".py",
   "mimetype": "text/x-python",
   "name": "python",
   "nbconvert_exporter": "python",
   "pygments_lexer": "ipython2",
   "version": "2.7.6"
  }
 },
 "nbformat": 4,
 "nbformat_minor": 0
}

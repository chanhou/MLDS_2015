{
 "cells": [
  {
   "cell_type": "code",
   "execution_count": 1,
   "metadata": {
    "collapsed": true
   },
   "outputs": [],
   "source": [
    "import numpy as np"
   ]
  },
  {
   "cell_type": "code",
   "execution_count": 2,
   "metadata": {
    "collapsed": false
   },
   "outputs": [
    {
     "name": "stdout",
     "output_type": "stream",
     "text": [
      "{'aa': 0, 'el': 14, 'ch': 8, 'ae': 1, 'eh': 13, 'cl': 9, 'ah': 2, 'ao': 3, 'ih': 22, 'en': 15, 'ey': 18, 'aw': 4, 'ay': 6, 'ax': 5, 'er': 17, 'vcl': 42, 'ng': 29, 'iy': 24, 'sh': 35, 'th': 38, 'sil': 36, 'zh': 46, 'w': 44, 'dh': 11, 'v': 43, 'ix': 23, 'y': 45, 'hh': 21, 'jh': 25, 'dx': 12, 'b': 7, 'd': 10, 'g': 20, 'f': 19, 'k': 26, 'm': 28, 'l': 27, 'n': 30, 'uh': 40, 'p': 33, 's': 37, 'r': 34, 't': 39, 'oy': 32, 'epi': 16, 'ow': 31, 'z': 47, 'uw': 41}\n",
      "{'aa': 'a', 'el': 'o', 'ch': 'i', 'ae': 'b', 'eh': 'n', 'cl': 'j', 'ah': 'c', 'ao': 'd', 'ih': 'w', 'en': 'p', 'ey': 's', 'aw': 'e', 'ay': 'g', 'ax': 'f', 'er': 'r', 'vcl': 'Q', 'ng': 'D', 'iy': 'y', 'sh': 'J', 'th': 'M', 'sil': 'K', 'zh': 'U', 'w': 'S', 'dh': 'l', 'v': 'R', 'ix': 'x', 'y': 'T', 'hh': 'v', 'jh': 'z', 'dx': 'm', 'b': 'h', 'd': 'k', 'g': 'u', 'f': 't', 'k': 'A', 'm': 'C', 'l': 'B', 'n': 'E', 'uh': 'O', 'p': 'H', 's': 'L', 'r': 'I', 't': 'N', 'oy': 'G', 'epi': 'q', 'ow': 'F', 'z': 'V', 'uw': 'P'}\n"
     ]
    }
   ],
   "source": [
    "mapp_int = {}\n",
    "mapp_number = {}\n",
    "\n",
    "with open('./48_idx_chr.map') as f:\n",
    "    for lines in f:\n",
    "        frames = lines.split('\\t')\n",
    "#         print frames\n",
    "        ff = frames[1].split(' ')\n",
    "#         print ff\n",
    "        final = ff[-1].split('\\n')\n",
    "#         print final\n",
    "        mapp_int[ frames[0] ] = int(ff[0])\n",
    "        mapp_number[ frames[0] ] = final[0]\n",
    "#         print mapp_int\n",
    "#         print mapp_number\n",
    "#         break\n",
    "print mapp_int\n",
    "print mapp_number"
   ]
  },
  {
   "cell_type": "code",
   "execution_count": 4,
   "metadata": {
    "collapsed": false
   },
   "outputs": [
    {
     "name": "stdout",
     "output_type": "stream",
     "text": [
      "{'faem0_si1392_251': 'aa', 'faem0_si1392_250': 'aa', 'faem0_si1392_121': 'uh', 'faem0_si1392_120': 'uh', 'faem0_si1392_123': 'l', 'faem0_si1392_122': 'l', 'faem0_si1392_125': 'l', 'faem0_si1392_124': 'l', 'faem0_si1392_127': 'l', 'faem0_si1392_126': 'l', 'faem0_si1392_129': 'l', 'faem0_si1392_128': 'l', 'faem0_si1392_398': 'vcl', 'faem0_si1392_399': 'd', 'faem0_si1392_396': 'vcl', 'faem0_si1392_397': 'vcl', 'faem0_si1392_394': 'n', 'faem0_si1392_395': 'n', 'faem0_si1392_392': 'ae', 'faem0_si1392_393': 'n', 'faem0_si1392_390': 'ae', 'faem0_si1392_391': 'ae', 'faem0_si1392_455': 's', 'faem0_si1392_454': 's', 'faem0_si1392_457': 's', 'faem0_si1392_456': 's', 'faem0_si1392_451': 's', 'faem0_si1392_450': 's', 'faem0_si1392_453': 's', 'faem0_si1392_452': 's', 'faem0_si1392_459': 's', 'faem0_si1392_458': 's', 'faem0_si1392_309': 'ae', 'faem0_si1392_308': 'ae', 'faem0_si1392_301': 'ae', 'faem0_si1392_300': 'p', 'faem0_si1392_303': 'ae', 'faem0_si1392_302': 'ae', 'faem0_si1392_305': 'ae', 'faem0_si1392_304': 'ae', 'faem0_si1392_307': 'ae', 'faem0_si1392_306': 'ae', 'faem0_si1392_262': 'm', 'faem0_si1392_263': 'm', 'faem0_si1392_260': 'm', 'faem0_si1392_261': 'm', 'faem0_si1392_266': 'hh', 'faem0_si1392_267': 'hh', 'faem0_si1392_264': 'hh', 'faem0_si1392_265': 'hh', 'faem0_si1392_268': 'hh', 'faem0_si1392_269': 'hh', 'faem0_si1392_310': 'ae', 'faem0_si1392_420': 'iy', 'faem0_si1392_421': 'iy', 'faem0_si1392_422': 'iy', 'faem0_si1392_423': 'iy', 'faem0_si1392_424': 'iy', 'faem0_si1392_425': 'iy', 'faem0_si1392_426': 'iy', 'faem0_si1392_427': 'iy', 'faem0_si1392_428': 'iy', 'faem0_si1392_429': 'iy', 'faem0_si1392_169': 'ch', 'faem0_si1392_168': 'ch', 'faem0_si1392_165': 'ch', 'faem0_si1392_164': 'ch', 'faem0_si1392_167': 'ch', 'faem0_si1392_166': 'ch', 'faem0_si1392_161': 'ch', 'faem0_si1392_160': 'cl', 'faem0_si1392_163': 'ch', 'faem0_si1392_162': 'ch', 'faem0_si1392_118': 'uh', 'faem0_si1392_119': 'uh', 'faem0_si1392_49': 'm', 'faem0_si1392_48': 'm', 'faem0_si1392_110': 'cl', 'faem0_si1392_111': 'cl', 'faem0_si1392_112': 'p', 'faem0_si1392_113': 'p', 'faem0_si1392_114': 'p', 'faem0_si1392_115': 'uh', 'faem0_si1392_116': 'uh', 'faem0_si1392_117': 'uh', 'faem0_si1392_183': 'ey', 'faem0_si1392_182': 'ey', 'faem0_si1392_181': 'ey', 'faem0_si1392_180': 'uw', 'faem0_si1392_187': 'ey', 'faem0_si1392_186': 'ey', 'faem0_si1392_185': 'ey', 'faem0_si1392_184': 'ey', 'faem0_si1392_189': 'ey', 'faem0_si1392_188': 'ey', 'faem0_si1392_345': 'sh', 'faem0_si1392_344': 'sh', 'faem0_si1392_347': 'eh', 'faem0_si1392_346': 'eh', 'faem0_si1392_341': 'sh', 'faem0_si1392_340': 'sh', 'faem0_si1392_343': 'sh', 'faem0_si1392_342': 'sh', 'faem0_si1392_349': 'eh', 'faem0_si1392_348': 'eh', 'faem0_si1392_71': 'ao', 'faem0_si1392_72': 'ao', 'faem0_si1392_73': 'r', 'faem0_si1392_239': 'f', 'faem0_si1392_238': 'f', 'faem0_si1392_332': 'sh', 'faem0_si1392_333': 'sh', 'faem0_si1392_334': 'sh', 'faem0_si1392_335': 'sh', 'faem0_si1392_336': 'sh', 'faem0_si1392_337': 'sh', 'faem0_si1392_338': 'sh', 'faem0_si1392_339': 'sh', 'faem0_si1392_233': 'f', 'faem0_si1392_232': 'f', 'faem0_si1392_235': 'f', 'faem0_si1392_234': 'f', 'faem0_si1392_237': 'f', 'faem0_si1392_236': 'f', 'faem0_si1392_78': 'r', 'faem0_si1392_468': 'sil', 'faem0_si1392_469': 'sil', 'faem0_si1392_173': 'uw', 'faem0_si1392_464': 's', 'faem0_si1392_465': 's', 'faem0_si1392_466': 'sil', 'faem0_si1392_467': 'sil', 'faem0_si1392_460': 's', 'faem0_si1392_461': 's', 'faem0_si1392_462': 's', 'faem0_si1392_463': 's', 'faem0_si1392_45': 'uw', 'faem0_si1392_44': 'uw', 'faem0_si1392_248': 'aa', 'faem0_si1392_47': 'm', 'faem0_si1392_326': 'ng', 'faem0_si1392_46': 'm', 'faem0_si1392_41': 'uw', 'faem0_si1392_40': 'uw', 'faem0_si1392_43': 'uw', 'faem0_si1392_42': 'uw', 'faem0_si1392_329': 'ng', 'faem0_si1392_16': 'ax', 'faem0_si1392_17': 'ax', 'faem0_si1392_14': 'ax', 'faem0_si1392_15': 'ax', 'faem0_si1392_12': 'sil', 'faem0_si1392_13': 'ax', 'faem0_si1392_10': 'sil', 'faem0_si1392_11': 'sil', 'faem0_si1392_158': 'cl', 'faem0_si1392_159': 'cl', 'faem0_si1392_18': 'ax', 'faem0_si1392_19': 'ax', 'faem0_si1392_81': 'ix', 'faem0_si1392_80': 'ix', 'faem0_si1392_83': 'vcl', 'faem0_si1392_82': 'vcl', 'faem0_si1392_85': 'vcl', 'faem0_si1392_84': 'vcl', 'faem0_si1392_87': 'z', 'faem0_si1392_86': 'z', 'faem0_si1392_89': 'z', 'faem0_si1392_88': 'z', 'faem0_si1392_381': 'ae', 'faem0_si1392_380': 'ae', 'faem0_si1392_383': 'ae', 'faem0_si1392_382': 'ae', 'faem0_si1392_385': 'ae', 'faem0_si1392_384': 'ae', 'faem0_si1392_387': 'ae', 'faem0_si1392_386': 'ae', 'faem0_si1392_389': 'ae', 'faem0_si1392_388': 'ae', 'faem0_si1392_378': 'ae', 'faem0_si1392_379': 'ae', 'faem0_si1392_374': 'sil', 'faem0_si1392_375': 'sil', 'faem0_si1392_376': 'sil', 'faem0_si1392_377': 'ae', 'faem0_si1392_370': 'sil', 'faem0_si1392_371': 'sil', 'faem0_si1392_372': 'sil', 'faem0_si1392_373': 'sil', 'faem0_si1392_275': 'eh', 'faem0_si1392_274': 'eh', 'faem0_si1392_277': 'z', 'faem0_si1392_276': 'z', 'faem0_si1392_271': 'eh', 'faem0_si1392_270': 'hh', 'faem0_si1392_273': 'eh', 'faem0_si1392_272': 'eh', 'faem0_si1392_279': 'z', 'faem0_si1392_278': 'z', 'faem0_si1392_200': 'sh', 'faem0_si1392_201': 'sh', 'faem0_si1392_202': 'en', 'faem0_si1392_203': 'en', 'faem0_si1392_204': 'en', 'faem0_si1392_205': 'en', 'faem0_si1392_206': 'en', 'faem0_si1392_207': 'w', 'faem0_si1392_208': 'w', 'faem0_si1392_209': 'w', 'faem0_si1392_433': 'l', 'faem0_si1392_432': 'l', 'faem0_si1392_431': 'l', 'faem0_si1392_430': 'l', 'faem0_si1392_437': 'l', 'faem0_si1392_436': 'l', 'faem0_si1392_435': 'l', 'faem0_si1392_434': 'l', 'faem0_si1392_439': 'l', 'faem0_si1392_438': 'l', 'faem0_si1392_29': 's', 'faem0_si1392_28': 's', 'faem0_si1392_27': 's', 'faem0_si1392_26': 's', 'faem0_si1392_25': 's', 'faem0_si1392_24': 's', 'faem0_si1392_23': 's', 'faem0_si1392_22': 's', 'faem0_si1392_21': 'ax', 'faem0_si1392_20': 'ax', 'faem0_si1392_109': 'cl', 'faem0_si1392_108': 'm', 'faem0_si1392_103': 'ae', 'faem0_si1392_102': 'ae', 'faem0_si1392_101': 'ae', 'faem0_si1392_100': 'ae', 'faem0_si1392_107': 'm', 'faem0_si1392_106': 'm', 'faem0_si1392_105': 'ae', 'faem0_si1392_104': 'ae', 'faem0_si1392_328': 'ng', 'faem0_si1392_323': 'iy', 'faem0_si1392_322': 'iy', 'faem0_si1392_321': 'iy', 'faem0_si1392_320': 'iy', 'faem0_si1392_327': 'ng', 'faem0_si1392_249': 'aa', 'faem0_si1392_325': 'ng', 'faem0_si1392_324': 'ng', 'faem0_si1392_244': 'aa', 'faem0_si1392_245': 'aa', 'faem0_si1392_246': 'aa', 'faem0_si1392_247': 'aa', 'faem0_si1392_240': 'f', 'faem0_si1392_241': 'f', 'faem0_si1392_242': 'f', 'faem0_si1392_243': 'f', 'faem0_si1392_474': 'sil', 'faem0_si1392_473': 'sil', 'faem0_si1392_472': 'sil', 'faem0_si1392_471': 'sil', 'faem0_si1392_470': 'sil', 'faem0_si1392_63': 'f', 'faem0_si1392_62': 'f', 'faem0_si1392_61': 'f', 'faem0_si1392_60': 'f', 'faem0_si1392_67': 'f', 'faem0_si1392_66': 'f', 'faem0_si1392_65': 'f', 'faem0_si1392_64': 'f', 'faem0_si1392_412': 'f', 'faem0_si1392_147': 's', 'faem0_si1392_146': 's', 'faem0_si1392_145': 's', 'faem0_si1392_144': 's', 'faem0_si1392_143': 's', 'faem0_si1392_142': 's', 'faem0_si1392_141': 's', 'faem0_si1392_140': 's', 'faem0_si1392_69': 'ao', 'faem0_si1392_68': 'ao', 'faem0_si1392_149': 's', 'faem0_si1392_148': 's', 'faem0_si1392_98': 'ae', 'faem0_si1392_99': 'ae', 'faem0_si1392_96': 'ae', 'faem0_si1392_97': 'ae', 'faem0_si1392_94': 'z', 'faem0_si1392_95': 'z', 'faem0_si1392_92': 'z', 'faem0_si1392_93': 'z', 'faem0_si1392_90': 'z', 'faem0_si1392_91': 'z', 'faem0_si1392_231': 'f', 'faem0_si1392_230': 'f', 'faem0_si1392_8': 'sil', 'faem0_si1392_9': 'sil', 'faem0_si1392_330': 'ng', 'faem0_si1392_4': 'sil', 'faem0_si1392_5': 'sil', 'faem0_si1392_6': 'sil', 'faem0_si1392_7': 'sil', 'faem0_si1392_1': 'sil', 'faem0_si1392_2': 'sil', 'faem0_si1392_3': 'sil', 'faem0_si1392_369': 'd', 'faem0_si1392_368': 'd', 'faem0_si1392_367': 'd', 'faem0_si1392_366': 'd', 'faem0_si1392_365': 'd', 'faem0_si1392_364': 'd', 'faem0_si1392_363': 'vcl', 'faem0_si1392_362': 'vcl', 'faem0_si1392_361': 'vcl', 'faem0_si1392_360': 'vcl', 'faem0_si1392_288': 'cl', 'faem0_si1392_289': 'cl', 'faem0_si1392_331': 'ng', 'faem0_si1392_280': 'z', 'faem0_si1392_281': 'z', 'faem0_si1392_282': 'z', 'faem0_si1392_283': 'z', 'faem0_si1392_284': 'ax', 'faem0_si1392_285': 'ax', 'faem0_si1392_286': 'ax', 'faem0_si1392_287': 'ax', 'faem0_si1392_213': 'w', 'faem0_si1392_212': 'w', 'faem0_si1392_211': 'w', 'faem0_si1392_210': 'w', 'faem0_si1392_217': 'w', 'faem0_si1392_216': 'w', 'faem0_si1392_215': 'w', 'faem0_si1392_214': 'w', 'faem0_si1392_219': 'eh', 'faem0_si1392_218': 'w', 'faem0_si1392_406': 'f', 'faem0_si1392_407': 'f', 'faem0_si1392_404': 'f', 'faem0_si1392_405': 'f', 'faem0_si1392_402': 'd', 'faem0_si1392_403': 'f', 'faem0_si1392_400': 'd', 'faem0_si1392_401': 'd', 'faem0_si1392_408': 'f', 'faem0_si1392_409': 'f', 'faem0_si1392_38': 'uw', 'faem0_si1392_39': 'uw', 'faem0_si1392_34': 's', 'faem0_si1392_35': 's', 'faem0_si1392_36': 's', 'faem0_si1392_37': 's', 'faem0_si1392_30': 's', 'faem0_si1392_31': 's', 'faem0_si1392_32': 's', 'faem0_si1392_33': 's', 'faem0_si1392_59': 'f', 'faem0_si1392_350': 'eh', 'faem0_si1392_351': 'eh', 'faem0_si1392_138': 'ax', 'faem0_si1392_139': 'ax', 'faem0_si1392_136': 'ax', 'faem0_si1392_137': 'ax', 'faem0_si1392_134': 'ax', 'faem0_si1392_135': 'ax', 'faem0_si1392_132': 'l', 'faem0_si1392_133': 'ax', 'faem0_si1392_130': 'l', 'faem0_si1392_131': 'l', 'faem0_si1392_77': 'r', 'faem0_si1392_358': 'eh', 'faem0_si1392_359': 'vcl', 'faem0_si1392_442': 'vcl', 'faem0_si1392_443': 'vcl', 'faem0_si1392_440': 'vcl', 'faem0_si1392_441': 'vcl', 'faem0_si1392_446': 'vcl', 'faem0_si1392_447': 'vcl', 'faem0_si1392_444': 'vcl', 'faem0_si1392_445': 'vcl', 'faem0_si1392_448': 'vcl', 'faem0_si1392_449': 'vcl', 'faem0_si1392_316': 'k', 'faem0_si1392_317': 'k', 'faem0_si1392_314': 'cl', 'faem0_si1392_315': 'k', 'faem0_si1392_312': 'cl', 'faem0_si1392_313': 'cl', 'faem0_si1392_259': 'm', 'faem0_si1392_311': 'cl', 'faem0_si1392_257': 'r', 'faem0_si1392_256': 'r', 'faem0_si1392_255': 'r', 'faem0_si1392_254': 'aa', 'faem0_si1392_253': 'aa', 'faem0_si1392_252': 'aa', 'faem0_si1392_318': 'k', 'faem0_si1392_319': 'k', 'faem0_si1392_51': 'm', 'faem0_si1392_70': 'ao', 'faem0_si1392_154': 'ix', 'faem0_si1392_178': 'uw', 'faem0_si1392_179': 'uw', 'faem0_si1392_74': 'r', 'faem0_si1392_75': 'r', 'faem0_si1392_76': 'r', 'faem0_si1392_155': 'ix', 'faem0_si1392_172': 'uw', 'faem0_si1392_79': 'ix', 'faem0_si1392_170': 'uw', 'faem0_si1392_171': 'uw', 'faem0_si1392_176': 'uw', 'faem0_si1392_177': 'uw', 'faem0_si1392_174': 'uw', 'faem0_si1392_175': 'uw', 'faem0_si1392_157': 'cl', 'faem0_si1392_156': 'cl', 'faem0_si1392_150': 's', 'faem0_si1392_151': 's', 'faem0_si1392_152': 's', 'faem0_si1392_153': 'ix', 'faem0_si1392_57': 'f', 'faem0_si1392_190': 'ey', 'faem0_si1392_191': 'sh', 'faem0_si1392_192': 'sh', 'faem0_si1392_193': 'sh', 'faem0_si1392_194': 'sh', 'faem0_si1392_195': 'sh', 'faem0_si1392_196': 'sh', 'faem0_si1392_197': 'sh', 'faem0_si1392_198': 'sh', 'faem0_si1392_199': 'sh', 'faem0_si1392_58': 'f', 'faem0_si1392_352': 'eh', 'faem0_si1392_353': 'eh', 'faem0_si1392_299': 'p', 'faem0_si1392_298': 'p', 'faem0_si1392_356': 'eh', 'faem0_si1392_357': 'eh', 'faem0_si1392_354': 'eh', 'faem0_si1392_355': 'eh', 'faem0_si1392_293': 'p', 'faem0_si1392_292': 'p', 'faem0_si1392_291': 'cl', 'faem0_si1392_290': 'cl', 'faem0_si1392_297': 'p', 'faem0_si1392_296': 'p', 'faem0_si1392_295': 'p', 'faem0_si1392_294': 'p', 'faem0_si1392_52': 'm', 'faem0_si1392_53': 'm', 'faem0_si1392_50': 'm', 'faem0_si1392_226': 'er', 'faem0_si1392_227': 'er', 'faem0_si1392_224': 'er', 'faem0_si1392_225': 'er', 'faem0_si1392_222': 'eh', 'faem0_si1392_223': 'eh', 'faem0_si1392_220': 'eh', 'faem0_si1392_221': 'eh', 'faem0_si1392_56': 'f', 'faem0_si1392_258': 'r', 'faem0_si1392_228': 'er', 'faem0_si1392_229': 'f', 'faem0_si1392_419': 'iy', 'faem0_si1392_418': 'iy', 'faem0_si1392_54': 'm', 'faem0_si1392_411': 'f', 'faem0_si1392_410': 'f', 'faem0_si1392_413': 'f', 'faem0_si1392_55': 'f', 'faem0_si1392_415': 'iy', 'faem0_si1392_414': 'f', 'faem0_si1392_417': 'iy', 'faem0_si1392_416': 'iy'}\n"
     ]
    }
   ],
   "source": [
    "mapp_label = {}\n",
    "\n",
    "with open('../../hw1/MLDS_HW1_RELEASE_v1/label/train.lab') as f:\n",
    "    for lines in f:\n",
    "        frames = lines.split(',')\n",
    "#         print frames\n",
    "        fff = frames[0].split('_')\n",
    "        if ((fff[0]+'_'+fff[1]) != 'faem0_si1392' ):\n",
    "            continue\n",
    "#         print fff\n",
    "        final = frames[-1].split('\\n')\n",
    "#         print final\n",
    "        mapp_label[ frames[0] ] = final[0]\n",
    "#         break\n",
    "print mapp_label"
   ]
  },
  {
   "cell_type": "code",
   "execution_count": 6,
   "metadata": {
    "collapsed": false
   },
   "outputs": [],
   "source": [
    "observation = np.zeros((48,69))\n",
    "transition = np.zeros((48,48))\n",
    "\n",
    "# collection = np.array([])\n",
    "\n",
    "with open('../../hw1/MLDS_HW1_RELEASE_v1/fbank/train.ark') as f:\n",
    "    previous = -1\n",
    "    for lines in f :\n",
    "        frames = lines.split(' ')\n",
    "        fff = frames[0].split('_')\n",
    "        if ((fff[0]+'_'+fff[1]) != 'faem0_si1392' ):\n",
    "            continue\n",
    "\n",
    "#         print frames[0]\n",
    "#         print mapp_label[ frames[0] ]\n",
    "#         print mapp_int[mapp_label[ frames[0] ]]\n",
    "        now = mapp_int[mapp_label[ frames[0] ]]\n",
    "        \n",
    "        frame2float = np.array([ float(x) for x in frames[1:] ])\n",
    "        \n",
    "        observation[now] += frame2float\n",
    "\n",
    "        if (previous == -1 ):\n",
    "            previous = now\n",
    "            continue\n",
    "            \n",
    "        transition[previous][now] += 1\n",
    "#         print transition[previous]\n",
    "#         print observation[now]\n",
    "        previous = now\n",
    "\n",
    "#         break\n"
   ]
  },
  {
   "cell_type": "code",
   "execution_count": 58,
   "metadata": {
    "collapsed": false
   },
   "outputs": [],
   "source": [
    "test_results = []\n",
    "\n",
    "count = 0\n",
    "for abc in observation:\n",
    "    for efg in abc:\n",
    "        \n",
    "        test_results.append( ( \"faem0_si1392_\"+str(count), efg ) ) \n",
    "#         print \"faem0_si1392_\"+str(count), efg\n",
    "        count += 1\n",
    "#         break\n",
    "\n",
    "for abc in transition:\n",
    "    for efg in abc:\n",
    "        \n",
    "        test_results.append( ( \"faem0_si1392_\"+str(count), efg ) ) \n",
    "#         print \"faem0_si1392_\"+str(count), efg\n",
    "        count += 1\n",
    "\n",
    "# np.array(test_results).shape\n",
    "        \n",
    "f = open(\"hwa_result.csv\", 'w+')\n",
    "f.write(\"id,feature\\n\")\n",
    "for xid, y in test_results:\n",
    "    f.write(\"{0},{1}\\n\".format(xid, y))\n",
    "f.close()\n"
   ]
  }
 ],
 "metadata": {
  "kernelspec": {
   "display_name": "Python 2",
   "language": "python",
   "name": "python2"
  },
  "language_info": {
   "codemirror_mode": {
    "name": "ipython",
    "version": 2
   },
   "file_extension": ".py",
   "mimetype": "text/x-python",
   "name": "python",
   "nbconvert_exporter": "python",
   "pygments_lexer": "ipython2",
   "version": "2.7.6"
  }
 },
 "nbformat": 4,
 "nbformat_minor": 0
}
